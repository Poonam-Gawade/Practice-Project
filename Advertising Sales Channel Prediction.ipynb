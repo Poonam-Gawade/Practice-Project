{
 "cells": [
  {
   "cell_type": "code",
   "execution_count": 1,
   "id": "ed0d38a9",
   "metadata": {},
   "outputs": [
    {
     "data": {
      "text/html": [
       "<style>.container{width:100% !important;}</style>"
      ],
      "text/plain": [
       "<IPython.core.display.HTML object>"
      ]
     },
     "metadata": {},
     "output_type": "display_data"
    }
   ],
   "source": [
    "from IPython.core.display import display, HTML\n",
    "display(HTML(\"<style>.container{width:100% !important;}</style>\"))"
   ]
  },
  {
   "cell_type": "code",
   "execution_count": 2,
   "id": "720f719d",
   "metadata": {},
   "outputs": [],
   "source": [
    "import pandas as pd\n",
    "import numpy as np"
   ]
  },
  {
   "cell_type": "code",
   "execution_count": 3,
   "id": "5e0a2e6e",
   "metadata": {},
   "outputs": [],
   "source": [
    "df=pd.read_csv(r\"Advertising.csv\")"
   ]
  },
  {
   "cell_type": "code",
   "execution_count": 4,
   "id": "6390b004",
   "metadata": {},
   "outputs": [
    {
     "data": {
      "text/html": [
       "<div>\n",
       "<style scoped>\n",
       "    .dataframe tbody tr th:only-of-type {\n",
       "        vertical-align: middle;\n",
       "    }\n",
       "\n",
       "    .dataframe tbody tr th {\n",
       "        vertical-align: top;\n",
       "    }\n",
       "\n",
       "    .dataframe thead th {\n",
       "        text-align: right;\n",
       "    }\n",
       "</style>\n",
       "<table border=\"1\" class=\"dataframe\">\n",
       "  <thead>\n",
       "    <tr style=\"text-align: right;\">\n",
       "      <th></th>\n",
       "      <th>Unnamed: 0</th>\n",
       "      <th>TV</th>\n",
       "      <th>radio</th>\n",
       "      <th>newspaper</th>\n",
       "      <th>sales</th>\n",
       "    </tr>\n",
       "  </thead>\n",
       "  <tbody>\n",
       "    <tr>\n",
       "      <th>0</th>\n",
       "      <td>1</td>\n",
       "      <td>230.1</td>\n",
       "      <td>37.8</td>\n",
       "      <td>69.2</td>\n",
       "      <td>22.1</td>\n",
       "    </tr>\n",
       "    <tr>\n",
       "      <th>1</th>\n",
       "      <td>2</td>\n",
       "      <td>44.5</td>\n",
       "      <td>39.3</td>\n",
       "      <td>45.1</td>\n",
       "      <td>10.4</td>\n",
       "    </tr>\n",
       "    <tr>\n",
       "      <th>2</th>\n",
       "      <td>3</td>\n",
       "      <td>17.2</td>\n",
       "      <td>45.9</td>\n",
       "      <td>69.3</td>\n",
       "      <td>9.3</td>\n",
       "    </tr>\n",
       "    <tr>\n",
       "      <th>3</th>\n",
       "      <td>4</td>\n",
       "      <td>151.5</td>\n",
       "      <td>41.3</td>\n",
       "      <td>58.5</td>\n",
       "      <td>18.5</td>\n",
       "    </tr>\n",
       "    <tr>\n",
       "      <th>4</th>\n",
       "      <td>5</td>\n",
       "      <td>180.8</td>\n",
       "      <td>10.8</td>\n",
       "      <td>58.4</td>\n",
       "      <td>12.9</td>\n",
       "    </tr>\n",
       "    <tr>\n",
       "      <th>...</th>\n",
       "      <td>...</td>\n",
       "      <td>...</td>\n",
       "      <td>...</td>\n",
       "      <td>...</td>\n",
       "      <td>...</td>\n",
       "    </tr>\n",
       "    <tr>\n",
       "      <th>195</th>\n",
       "      <td>196</td>\n",
       "      <td>38.2</td>\n",
       "      <td>3.7</td>\n",
       "      <td>13.8</td>\n",
       "      <td>7.6</td>\n",
       "    </tr>\n",
       "    <tr>\n",
       "      <th>196</th>\n",
       "      <td>197</td>\n",
       "      <td>94.2</td>\n",
       "      <td>4.9</td>\n",
       "      <td>8.1</td>\n",
       "      <td>9.7</td>\n",
       "    </tr>\n",
       "    <tr>\n",
       "      <th>197</th>\n",
       "      <td>198</td>\n",
       "      <td>177.0</td>\n",
       "      <td>9.3</td>\n",
       "      <td>6.4</td>\n",
       "      <td>12.8</td>\n",
       "    </tr>\n",
       "    <tr>\n",
       "      <th>198</th>\n",
       "      <td>199</td>\n",
       "      <td>283.6</td>\n",
       "      <td>42.0</td>\n",
       "      <td>66.2</td>\n",
       "      <td>25.5</td>\n",
       "    </tr>\n",
       "    <tr>\n",
       "      <th>199</th>\n",
       "      <td>200</td>\n",
       "      <td>232.1</td>\n",
       "      <td>8.6</td>\n",
       "      <td>8.7</td>\n",
       "      <td>13.4</td>\n",
       "    </tr>\n",
       "  </tbody>\n",
       "</table>\n",
       "<p>200 rows × 5 columns</p>\n",
       "</div>"
      ],
      "text/plain": [
       "     Unnamed: 0     TV  radio  newspaper  sales\n",
       "0             1  230.1   37.8       69.2   22.1\n",
       "1             2   44.5   39.3       45.1   10.4\n",
       "2             3   17.2   45.9       69.3    9.3\n",
       "3             4  151.5   41.3       58.5   18.5\n",
       "4             5  180.8   10.8       58.4   12.9\n",
       "..          ...    ...    ...        ...    ...\n",
       "195         196   38.2    3.7       13.8    7.6\n",
       "196         197   94.2    4.9        8.1    9.7\n",
       "197         198  177.0    9.3        6.4   12.8\n",
       "198         199  283.6   42.0       66.2   25.5\n",
       "199         200  232.1    8.6        8.7   13.4\n",
       "\n",
       "[200 rows x 5 columns]"
      ]
     },
     "execution_count": 4,
     "metadata": {},
     "output_type": "execute_result"
    }
   ],
   "source": [
    "df"
   ]
  },
  {
   "cell_type": "code",
   "execution_count": 5,
   "id": "7f3792a3",
   "metadata": {},
   "outputs": [],
   "source": [
    "df.rename( columns={'Unnamed: 0':'Index'}, inplace=True )"
   ]
  },
  {
   "cell_type": "code",
   "execution_count": 6,
   "id": "5b80896f",
   "metadata": {},
   "outputs": [
    {
     "data": {
      "text/plain": [
       "Index(['Index', 'TV', 'radio', 'newspaper', 'sales'], dtype='object')"
      ]
     },
     "execution_count": 6,
     "metadata": {},
     "output_type": "execute_result"
    }
   ],
   "source": [
    "df.columns"
   ]
  },
  {
   "cell_type": "code",
   "execution_count": 7,
   "id": "73ed77bb",
   "metadata": {},
   "outputs": [
    {
     "data": {
      "text/html": [
       "<div>\n",
       "<style scoped>\n",
       "    .dataframe tbody tr th:only-of-type {\n",
       "        vertical-align: middle;\n",
       "    }\n",
       "\n",
       "    .dataframe tbody tr th {\n",
       "        vertical-align: top;\n",
       "    }\n",
       "\n",
       "    .dataframe thead th {\n",
       "        text-align: right;\n",
       "    }\n",
       "</style>\n",
       "<table border=\"1\" class=\"dataframe\">\n",
       "  <thead>\n",
       "    <tr style=\"text-align: right;\">\n",
       "      <th></th>\n",
       "      <th>Index</th>\n",
       "      <th>TV</th>\n",
       "      <th>radio</th>\n",
       "      <th>newspaper</th>\n",
       "      <th>sales</th>\n",
       "    </tr>\n",
       "  </thead>\n",
       "  <tbody>\n",
       "    <tr>\n",
       "      <th>0</th>\n",
       "      <td>1</td>\n",
       "      <td>230.1</td>\n",
       "      <td>37.8</td>\n",
       "      <td>69.2</td>\n",
       "      <td>22.1</td>\n",
       "    </tr>\n",
       "    <tr>\n",
       "      <th>1</th>\n",
       "      <td>2</td>\n",
       "      <td>44.5</td>\n",
       "      <td>39.3</td>\n",
       "      <td>45.1</td>\n",
       "      <td>10.4</td>\n",
       "    </tr>\n",
       "    <tr>\n",
       "      <th>2</th>\n",
       "      <td>3</td>\n",
       "      <td>17.2</td>\n",
       "      <td>45.9</td>\n",
       "      <td>69.3</td>\n",
       "      <td>9.3</td>\n",
       "    </tr>\n",
       "    <tr>\n",
       "      <th>3</th>\n",
       "      <td>4</td>\n",
       "      <td>151.5</td>\n",
       "      <td>41.3</td>\n",
       "      <td>58.5</td>\n",
       "      <td>18.5</td>\n",
       "    </tr>\n",
       "    <tr>\n",
       "      <th>4</th>\n",
       "      <td>5</td>\n",
       "      <td>180.8</td>\n",
       "      <td>10.8</td>\n",
       "      <td>58.4</td>\n",
       "      <td>12.9</td>\n",
       "    </tr>\n",
       "  </tbody>\n",
       "</table>\n",
       "</div>"
      ],
      "text/plain": [
       "   Index     TV  radio  newspaper  sales\n",
       "0      1  230.1   37.8       69.2   22.1\n",
       "1      2   44.5   39.3       45.1   10.4\n",
       "2      3   17.2   45.9       69.3    9.3\n",
       "3      4  151.5   41.3       58.5   18.5\n",
       "4      5  180.8   10.8       58.4   12.9"
      ]
     },
     "execution_count": 7,
     "metadata": {},
     "output_type": "execute_result"
    }
   ],
   "source": [
    "df.head()"
   ]
  },
  {
   "cell_type": "code",
   "execution_count": 8,
   "id": "af0b298d",
   "metadata": {},
   "outputs": [
    {
     "data": {
      "text/plain": [
       "Index        0\n",
       "TV           0\n",
       "radio        0\n",
       "newspaper    0\n",
       "sales        0\n",
       "dtype: int64"
      ]
     },
     "execution_count": 8,
     "metadata": {},
     "output_type": "execute_result"
    }
   ],
   "source": [
    "df.isnull().sum()"
   ]
  },
  {
   "cell_type": "code",
   "execution_count": 9,
   "id": "1933649b",
   "metadata": {},
   "outputs": [
    {
     "data": {
      "text/plain": [
       "Index          int64\n",
       "TV           float64\n",
       "radio        float64\n",
       "newspaper    float64\n",
       "sales        float64\n",
       "dtype: object"
      ]
     },
     "execution_count": 9,
     "metadata": {},
     "output_type": "execute_result"
    }
   ],
   "source": [
    "df.dtypes"
   ]
  },
  {
   "cell_type": "markdown",
   "id": "001454cc",
   "metadata": {},
   "source": [
    "# Visualization of the Data:"
   ]
  },
  {
   "cell_type": "code",
   "execution_count": 10,
   "id": "1262ccc0",
   "metadata": {},
   "outputs": [],
   "source": [
    "import seaborn as sns"
   ]
  },
  {
   "cell_type": "code",
   "execution_count": 11,
   "id": "c7cda5c7",
   "metadata": {},
   "outputs": [
    {
     "data": {
      "text/plain": [
       "<seaborn.axisgrid.FacetGrid at 0x1844c2b7880>"
      ]
     },
     "execution_count": 11,
     "metadata": {},
     "output_type": "execute_result"
    },
    {
     "data": {
      "image/png": "[encoded data removed]",
      "text/plain": [
       "<Figure size 360x360 with 1 Axes>"
      ]
     },
     "metadata": {
      "needs_background": "light"
     },
     "output_type": "display_data"
    }
   ],
   "source": [
    "sns.displot(df[\"TV\"],kde=True)"
   ]
  },
  {
   "cell_type": "code",
   "execution_count": 12,
   "id": "9b90a00f",
   "metadata": {},
   "outputs": [
    {
     "data": {
      "text/plain": [
       "<seaborn.axisgrid.FacetGrid at 0x1845187e160>"
      ]
     },
     "execution_count": 12,
     "metadata": {},
     "output_type": "execute_result"
    },
    {
     "data": {
      "image/png": "[encoded data removed]",
      "text/plain": [
       "<Figure size 360x360 with 1 Axes>"
      ]
     },
     "metadata": {
      "needs_background": "light"
     },
     "output_type": "display_data"
    }
   ],
   "source": [
    "sns.displot(df[\"radio\"],kde=True)"
   ]
  },
  {
   "cell_type": "code",
   "execution_count": 13,
   "id": "45c840ed",
   "metadata": {},
   "outputs": [
    {
     "data": {
      "text/plain": [
       "<seaborn.axisgrid.FacetGrid at 0x1845187edc0>"
      ]
     },
     "execution_count": 13,
     "metadata": {},
     "output_type": "execute_result"
    },
    {
     "data": {
      "image/png": "[encoded data removed]",
      "text/plain": [
       "<Figure size 360x360 with 1 Axes>"
      ]
     },
     "metadata": {
      "needs_background": "light"
     },
     "output_type": "display_data"
    }
   ],
   "source": [
    "sns.displot(df[\"newspaper\"],kde=True)"
   ]
  },
  {
   "cell_type": "code",
   "execution_count": 14,
   "id": "6ff352cc",
   "metadata": {},
   "outputs": [
    {
     "data": {
      "text/plain": [
       "<seaborn.axisgrid.FacetGrid at 0x184518f9d60>"
      ]
     },
     "execution_count": 14,
     "metadata": {},
     "output_type": "execute_result"
    },
    {
     "data": {
      "image/png": "[encoded data removed]",
      "text/plain": [
       "<Figure size 360x360 with 1 Axes>"
      ]
     },
     "metadata": {
      "needs_background": "light"
     },
     "output_type": "display_data"
    }
   ],
   "source": [
    "sns.displot(df[\"sales\"],kde=True)"
   ]
  },
  {
   "cell_type": "markdown",
   "id": "5fc5a53c",
   "metadata": {},
   "source": [
    "# Describe the dataset:"
   ]
  },
  {
   "cell_type": "code",
   "execution_count": 15,
   "id": "9db11441",
   "metadata": {},
   "outputs": [
    {
     "data": {
      "text/html": [
       "<div>\n",
       "<style scoped>\n",
       "    .dataframe tbody tr th:only-of-type {\n",
       "        vertical-align: middle;\n",
       "    }\n",
       "\n",
       "    .dataframe tbody tr th {\n",
       "        vertical-align: top;\n",
       "    }\n",
       "\n",
       "    .dataframe thead th {\n",
       "        text-align: right;\n",
       "    }\n",
       "</style>\n",
       "<table border=\"1\" class=\"dataframe\">\n",
       "  <thead>\n",
       "    <tr style=\"text-align: right;\">\n",
       "      <th></th>\n",
       "      <th>Index</th>\n",
       "      <th>TV</th>\n",
       "      <th>radio</th>\n",
       "      <th>newspaper</th>\n",
       "      <th>sales</th>\n",
       "    </tr>\n",
       "  </thead>\n",
       "  <tbody>\n",
       "    <tr>\n",
       "      <th>count</th>\n",
       "      <td>200.000000</td>\n",
       "      <td>200.000000</td>\n",
       "      <td>200.000000</td>\n",
       "      <td>200.000000</td>\n",
       "      <td>200.000000</td>\n",
       "    </tr>\n",
       "    <tr>\n",
       "      <th>mean</th>\n",
       "      <td>100.500000</td>\n",
       "      <td>147.042500</td>\n",
       "      <td>23.264000</td>\n",
       "      <td>30.554000</td>\n",
       "      <td>14.022500</td>\n",
       "    </tr>\n",
       "    <tr>\n",
       "      <th>std</th>\n",
       "      <td>57.879185</td>\n",
       "      <td>85.854236</td>\n",
       "      <td>14.846809</td>\n",
       "      <td>21.778621</td>\n",
       "      <td>5.217457</td>\n",
       "    </tr>\n",
       "    <tr>\n",
       "      <th>min</th>\n",
       "      <td>1.000000</td>\n",
       "      <td>0.700000</td>\n",
       "      <td>0.000000</td>\n",
       "      <td>0.300000</td>\n",
       "      <td>1.600000</td>\n",
       "    </tr>\n",
       "    <tr>\n",
       "      <th>25%</th>\n",
       "      <td>50.750000</td>\n",
       "      <td>74.375000</td>\n",
       "      <td>9.975000</td>\n",
       "      <td>12.750000</td>\n",
       "      <td>10.375000</td>\n",
       "    </tr>\n",
       "    <tr>\n",
       "      <th>50%</th>\n",
       "      <td>100.500000</td>\n",
       "      <td>149.750000</td>\n",
       "      <td>22.900000</td>\n",
       "      <td>25.750000</td>\n",
       "      <td>12.900000</td>\n",
       "    </tr>\n",
       "    <tr>\n",
       "      <th>75%</th>\n",
       "      <td>150.250000</td>\n",
       "      <td>218.825000</td>\n",
       "      <td>36.525000</td>\n",
       "      <td>45.100000</td>\n",
       "      <td>17.400000</td>\n",
       "    </tr>\n",
       "    <tr>\n",
       "      <th>max</th>\n",
       "      <td>200.000000</td>\n",
       "      <td>296.400000</td>\n",
       "      <td>49.600000</td>\n",
       "      <td>114.000000</td>\n",
       "      <td>27.000000</td>\n",
       "    </tr>\n",
       "  </tbody>\n",
       "</table>\n",
       "</div>"
      ],
      "text/plain": [
       "            Index          TV       radio   newspaper       sales\n",
       "count  200.000000  200.000000  200.000000  200.000000  200.000000\n",
       "mean   100.500000  147.042500   23.264000   30.554000   14.022500\n",
       "std     57.879185   85.854236   14.846809   21.778621    5.217457\n",
       "min      1.000000    0.700000    0.000000    0.300000    1.600000\n",
       "25%     50.750000   74.375000    9.975000   12.750000   10.375000\n",
       "50%    100.500000  149.750000   22.900000   25.750000   12.900000\n",
       "75%    150.250000  218.825000   36.525000   45.100000   17.400000\n",
       "max    200.000000  296.400000   49.600000  114.000000   27.000000"
      ]
     },
     "execution_count": 15,
     "metadata": {},
     "output_type": "execute_result"
    }
   ],
   "source": [
    "df.describe()"
   ]
  },
  {
   "cell_type": "code",
   "execution_count": 16,
   "id": "abd728ce",
   "metadata": {},
   "outputs": [
    {
     "data": {
      "text/plain": [
       "<AxesSubplot:>"
      ]
     },
     "execution_count": 16,
     "metadata": {},
     "output_type": "execute_result"
    },
    {
     "data": {
      "image/png": "[encoded data removed]",
      "text/plain": [
       "<Figure size 1584x504 with 2 Axes>"
      ]
     },
     "metadata": {
      "needs_background": "light"
     },
     "output_type": "display_data"
    }
   ],
   "source": [
    "import matplotlib.pyplot as plt\n",
    "plt.figure(figsize=(22,7))\n",
    "sns.heatmap(df.describe(),annot=True, linewidths=0.1,linecolor=\"black\",fmt=\"0.2f\")"
   ]
  },
  {
   "cell_type": "markdown",
   "id": "a14cbd27",
   "metadata": {},
   "source": [
    "# Correlation of the columns with the target columns:"
   ]
  },
  {
   "cell_type": "code",
   "execution_count": 17,
   "id": "aa1f0343",
   "metadata": {},
   "outputs": [
    {
     "data": {
      "text/html": [
       "<div>\n",
       "<style scoped>\n",
       "    .dataframe tbody tr th:only-of-type {\n",
       "        vertical-align: middle;\n",
       "    }\n",
       "\n",
       "    .dataframe tbody tr th {\n",
       "        vertical-align: top;\n",
       "    }\n",
       "\n",
       "    .dataframe thead th {\n",
       "        text-align: right;\n",
       "    }\n",
       "</style>\n",
       "<table border=\"1\" class=\"dataframe\">\n",
       "  <thead>\n",
       "    <tr style=\"text-align: right;\">\n",
       "      <th></th>\n",
       "      <th>Index</th>\n",
       "      <th>TV</th>\n",
       "      <th>radio</th>\n",
       "      <th>newspaper</th>\n",
       "      <th>sales</th>\n",
       "    </tr>\n",
       "  </thead>\n",
       "  <tbody>\n",
       "    <tr>\n",
       "      <th>Index</th>\n",
       "      <td>1.000000</td>\n",
       "      <td>0.017715</td>\n",
       "      <td>-0.110680</td>\n",
       "      <td>-0.154944</td>\n",
       "      <td>-0.051616</td>\n",
       "    </tr>\n",
       "    <tr>\n",
       "      <th>TV</th>\n",
       "      <td>0.017715</td>\n",
       "      <td>1.000000</td>\n",
       "      <td>0.054809</td>\n",
       "      <td>0.056648</td>\n",
       "      <td>0.782224</td>\n",
       "    </tr>\n",
       "    <tr>\n",
       "      <th>radio</th>\n",
       "      <td>-0.110680</td>\n",
       "      <td>0.054809</td>\n",
       "      <td>1.000000</td>\n",
       "      <td>0.354104</td>\n",
       "      <td>0.576223</td>\n",
       "    </tr>\n",
       "    <tr>\n",
       "      <th>newspaper</th>\n",
       "      <td>-0.154944</td>\n",
       "      <td>0.056648</td>\n",
       "      <td>0.354104</td>\n",
       "      <td>1.000000</td>\n",
       "      <td>0.228299</td>\n",
       "    </tr>\n",
       "    <tr>\n",
       "      <th>sales</th>\n",
       "      <td>-0.051616</td>\n",
       "      <td>0.782224</td>\n",
       "      <td>0.576223</td>\n",
       "      <td>0.228299</td>\n",
       "      <td>1.000000</td>\n",
       "    </tr>\n",
       "  </tbody>\n",
       "</table>\n",
       "</div>"
      ],
      "text/plain": [
       "              Index        TV     radio  newspaper     sales\n",
       "Index      1.000000  0.017715 -0.110680  -0.154944 -0.051616\n",
       "TV         0.017715  1.000000  0.054809   0.056648  0.782224\n",
       "radio     -0.110680  0.054809  1.000000   0.354104  0.576223\n",
       "newspaper -0.154944  0.056648  0.354104   1.000000  0.228299\n",
       "sales     -0.051616  0.782224  0.576223   0.228299  1.000000"
      ]
     },
     "execution_count": 17,
     "metadata": {},
     "output_type": "execute_result"
    }
   ],
   "source": [
    "df.corr()"
   ]
  },
  {
   "cell_type": "code",
   "execution_count": 18,
   "id": "7d830987",
   "metadata": {},
   "outputs": [
    {
     "data": {
      "text/plain": [
       "Index       -0.051616\n",
       "newspaper    0.228299\n",
       "radio        0.576223\n",
       "TV           0.782224\n",
       "sales        1.000000\n",
       "Name: sales, dtype: float64"
      ]
     },
     "execution_count": 18,
     "metadata": {},
     "output_type": "execute_result"
    }
   ],
   "source": [
    "df.corr()['sales'].sort_values()"
   ]
  },
  {
   "cell_type": "code",
   "execution_count": 19,
   "id": "dafb0b49",
   "metadata": {},
   "outputs": [
    {
     "data": {
      "text/plain": [
       "<AxesSubplot:>"
      ]
     },
     "execution_count": 19,
     "metadata": {},
     "output_type": "execute_result"
    },
    {
     "data": {
      "image/png": "[encoded data removed]",
      "text/plain": [
       "<Figure size 1584x504 with 2 Axes>"
      ]
     },
     "metadata": {
      "needs_background": "light"
     },
     "output_type": "display_data"
    }
   ],
   "source": [
    "plt.figure(figsize=(22,7))\n",
    "sns.heatmap(df.corr(),annot=True, linewidths=0.1,linecolor=\"black\", fmt=\"0.2f\")"
   ]
  },
  {
   "cell_type": "code",
   "execution_count": 20,
   "id": "eabf3f61",
   "metadata": {},
   "outputs": [
    {
     "data": {
      "image/png": "[encoded data removed]",
      "text/plain": [
       "<Figure size 1584x504 with 1 Axes>"
      ]
     },
     "metadata": {
      "needs_background": "light"
     },
     "output_type": "display_data"
    }
   ],
   "source": [
    "plt.figure(figsize=(22,7))\n",
    "df.corr()['sales'].sort_values(ascending=False).drop(['sales']).plot(kind='bar',color=\"c\")\n",
    "plt.xlabel('Features',fontsize=14)\n",
    "plt.ylabel('column with target name',fontsize=14)\n",
    "plt.title('correlation',fontsize=18)\n",
    "plt.show()"
   ]
  },
  {
   "cell_type": "code",
   "execution_count": 21,
   "id": "035a4efa",
   "metadata": {},
   "outputs": [
    {
     "data": {
      "text/plain": [
       "Index        0.000000\n",
       "TV          -0.069853\n",
       "radio        0.094175\n",
       "newspaper    0.894720\n",
       "sales        0.407571\n",
       "dtype: float64"
      ]
     },
     "execution_count": 21,
     "metadata": {},
     "output_type": "execute_result"
    }
   ],
   "source": [
    "df.skew()"
   ]
  },
  {
   "cell_type": "markdown",
   "id": "af69ffc8",
   "metadata": {},
   "source": [
    "# Outlier Check:"
   ]
  },
  {
   "cell_type": "code",
   "execution_count": 22,
   "id": "beb01629",
   "metadata": {},
   "outputs": [
    {
     "data": {
      "text/plain": [
       "Index          int64\n",
       "TV           float64\n",
       "radio        float64\n",
       "newspaper    float64\n",
       "sales        float64\n",
       "dtype: object"
      ]
     },
     "execution_count": 22,
     "metadata": {},
     "output_type": "execute_result"
    }
   ],
   "source": [
    "df.dtypes"
   ]
  },
  {
   "cell_type": "code",
   "execution_count": 23,
   "id": "d30dc37c",
   "metadata": {},
   "outputs": [
    {
     "data": {
      "text/plain": [
       "<AxesSubplot:>"
      ]
     },
     "execution_count": 23,
     "metadata": {},
     "output_type": "execute_result"
    },
    {
     "data": {
      "image/png": "[encoded data removed]",
      "text/plain": [
       "<Figure size 432x288 with 1 Axes>"
      ]
     },
     "metadata": {
      "needs_background": "light"
     },
     "output_type": "display_data"
    }
   ],
   "source": [
    "df[\"TV\"].plot.box()"
   ]
  },
  {
   "cell_type": "code",
   "execution_count": 24,
   "id": "5cbb8914",
   "metadata": {},
   "outputs": [
    {
     "data": {
      "text/plain": [
       "<AxesSubplot:>"
      ]
     },
     "execution_count": 24,
     "metadata": {},
     "output_type": "execute_result"
    },
    {
     "data": {
      "image/png": "[encoded data removed]",
      "text/plain": [
       "<Figure size 432x288 with 1 Axes>"
      ]
     },
     "metadata": {
      "needs_background": "light"
     },
     "output_type": "display_data"
    }
   ],
   "source": [
    "df[\"radio\"].plot.box()"
   ]
  },
  {
   "cell_type": "code",
   "execution_count": 25,
   "id": "91e06d28",
   "metadata": {},
   "outputs": [
    {
     "data": {
      "text/plain": [
       "<AxesSubplot:>"
      ]
     },
     "execution_count": 25,
     "metadata": {},
     "output_type": "execute_result"
    },
    {
     "data": {
      "image/png": "[encoded data removed]",
      "text/plain": [
       "<Figure size 432x288 with 1 Axes>"
      ]
     },
     "metadata": {
      "needs_background": "light"
     },
     "output_type": "display_data"
    }
   ],
   "source": [
    "df[\"newspaper\"].plot.box()"
   ]
  },
  {
   "cell_type": "code",
   "execution_count": 26,
   "id": "5f8c89dd",
   "metadata": {},
   "outputs": [
    {
     "data": {
      "text/plain": [
       "<AxesSubplot:>"
      ]
     },
     "execution_count": 26,
     "metadata": {},
     "output_type": "execute_result"
    },
    {
     "data": {
      "image/png": "[encoded data removed]",
      "text/plain": [
       "<Figure size 432x288 with 1 Axes>"
      ]
     },
     "metadata": {
      "needs_background": "light"
     },
     "output_type": "display_data"
    }
   ],
   "source": [
    "df[\"Index\"].plot.box()"
   ]
  },
  {
   "cell_type": "markdown",
   "id": "db689526",
   "metadata": {},
   "source": [
    "# Considering the outlier removal"
   ]
  },
  {
   "cell_type": "code",
   "execution_count": 27,
   "id": "16277664",
   "metadata": {},
   "outputs": [
    {
     "data": {
      "text/plain": [
       "(200, 5)"
      ]
     },
     "execution_count": 27,
     "metadata": {},
     "output_type": "execute_result"
    }
   ],
   "source": [
    "df.shape"
   ]
  },
  {
   "cell_type": "code",
   "execution_count": 28,
   "id": "9e3dc8c1",
   "metadata": {},
   "outputs": [
    {
     "data": {
      "text/plain": [
       "(array([ 16, 101], dtype=int64), array([3, 3], dtype=int64))"
      ]
     },
     "execution_count": 28,
     "metadata": {},
     "output_type": "execute_result"
    }
   ],
   "source": [
    "from scipy.stats import zscore\n",
    "import numpy as np\n",
    "z=np.abs(zscore(df))\n",
    "threshold=3\n",
    "np.where(z>3)"
   ]
  },
  {
   "cell_type": "code",
   "execution_count": 29,
   "id": "a6b2ef81",
   "metadata": {},
   "outputs": [
    {
     "data": {
      "text/html": [
       "<div>\n",
       "<style scoped>\n",
       "    .dataframe tbody tr th:only-of-type {\n",
       "        vertical-align: middle;\n",
       "    }\n",
       "\n",
       "    .dataframe tbody tr th {\n",
       "        vertical-align: top;\n",
       "    }\n",
       "\n",
       "    .dataframe thead th {\n",
       "        text-align: right;\n",
       "    }\n",
       "</style>\n",
       "<table border=\"1\" class=\"dataframe\">\n",
       "  <thead>\n",
       "    <tr style=\"text-align: right;\">\n",
       "      <th></th>\n",
       "      <th>Index</th>\n",
       "      <th>TV</th>\n",
       "      <th>radio</th>\n",
       "      <th>newspaper</th>\n",
       "      <th>sales</th>\n",
       "    </tr>\n",
       "  </thead>\n",
       "  <tbody>\n",
       "    <tr>\n",
       "      <th>0</th>\n",
       "      <td>1</td>\n",
       "      <td>230.1</td>\n",
       "      <td>37.8</td>\n",
       "      <td>69.2</td>\n",
       "      <td>22.1</td>\n",
       "    </tr>\n",
       "    <tr>\n",
       "      <th>1</th>\n",
       "      <td>2</td>\n",
       "      <td>44.5</td>\n",
       "      <td>39.3</td>\n",
       "      <td>45.1</td>\n",
       "      <td>10.4</td>\n",
       "    </tr>\n",
       "    <tr>\n",
       "      <th>2</th>\n",
       "      <td>3</td>\n",
       "      <td>17.2</td>\n",
       "      <td>45.9</td>\n",
       "      <td>69.3</td>\n",
       "      <td>9.3</td>\n",
       "    </tr>\n",
       "    <tr>\n",
       "      <th>3</th>\n",
       "      <td>4</td>\n",
       "      <td>151.5</td>\n",
       "      <td>41.3</td>\n",
       "      <td>58.5</td>\n",
       "      <td>18.5</td>\n",
       "    </tr>\n",
       "    <tr>\n",
       "      <th>4</th>\n",
       "      <td>5</td>\n",
       "      <td>180.8</td>\n",
       "      <td>10.8</td>\n",
       "      <td>58.4</td>\n",
       "      <td>12.9</td>\n",
       "    </tr>\n",
       "    <tr>\n",
       "      <th>...</th>\n",
       "      <td>...</td>\n",
       "      <td>...</td>\n",
       "      <td>...</td>\n",
       "      <td>...</td>\n",
       "      <td>...</td>\n",
       "    </tr>\n",
       "    <tr>\n",
       "      <th>195</th>\n",
       "      <td>196</td>\n",
       "      <td>38.2</td>\n",
       "      <td>3.7</td>\n",
       "      <td>13.8</td>\n",
       "      <td>7.6</td>\n",
       "    </tr>\n",
       "    <tr>\n",
       "      <th>196</th>\n",
       "      <td>197</td>\n",
       "      <td>94.2</td>\n",
       "      <td>4.9</td>\n",
       "      <td>8.1</td>\n",
       "      <td>9.7</td>\n",
       "    </tr>\n",
       "    <tr>\n",
       "      <th>197</th>\n",
       "      <td>198</td>\n",
       "      <td>177.0</td>\n",
       "      <td>9.3</td>\n",
       "      <td>6.4</td>\n",
       "      <td>12.8</td>\n",
       "    </tr>\n",
       "    <tr>\n",
       "      <th>198</th>\n",
       "      <td>199</td>\n",
       "      <td>283.6</td>\n",
       "      <td>42.0</td>\n",
       "      <td>66.2</td>\n",
       "      <td>25.5</td>\n",
       "    </tr>\n",
       "    <tr>\n",
       "      <th>199</th>\n",
       "      <td>200</td>\n",
       "      <td>232.1</td>\n",
       "      <td>8.6</td>\n",
       "      <td>8.7</td>\n",
       "      <td>13.4</td>\n",
       "    </tr>\n",
       "  </tbody>\n",
       "</table>\n",
       "<p>198 rows × 5 columns</p>\n",
       "</div>"
      ],
      "text/plain": [
       "     Index     TV  radio  newspaper  sales\n",
       "0        1  230.1   37.8       69.2   22.1\n",
       "1        2   44.5   39.3       45.1   10.4\n",
       "2        3   17.2   45.9       69.3    9.3\n",
       "3        4  151.5   41.3       58.5   18.5\n",
       "4        5  180.8   10.8       58.4   12.9\n",
       "..     ...    ...    ...        ...    ...\n",
       "195    196   38.2    3.7       13.8    7.6\n",
       "196    197   94.2    4.9        8.1    9.7\n",
       "197    198  177.0    9.3        6.4   12.8\n",
       "198    199  283.6   42.0       66.2   25.5\n",
       "199    200  232.1    8.6        8.7   13.4\n",
       "\n",
       "[198 rows x 5 columns]"
      ]
     },
     "execution_count": 29,
     "metadata": {},
     "output_type": "execute_result"
    }
   ],
   "source": [
    "df_new_z=df[(z<3).all(axis=1)]\n",
    "df_new_z"
   ]
  },
  {
   "cell_type": "code",
   "execution_count": 30,
   "id": "0a71212c",
   "metadata": {},
   "outputs": [
    {
     "data": {
      "text/plain": [
       "(198, 5)"
      ]
     },
     "execution_count": 30,
     "metadata": {},
     "output_type": "execute_result"
    }
   ],
   "source": [
    "df_new_z.shape"
   ]
  },
  {
   "cell_type": "code",
   "execution_count": 31,
   "id": "d755b917",
   "metadata": {},
   "outputs": [
    {
     "data": {
      "text/plain": [
       "1.0"
      ]
     },
     "execution_count": 31,
     "metadata": {},
     "output_type": "execute_result"
    }
   ],
   "source": [
    "Data_loss=((200-198)/200)*100\n",
    "Data_loss"
   ]
  },
  {
   "cell_type": "markdown",
   "id": "67033bac",
   "metadata": {},
   "source": [
    "# Separating the columns into features and target:"
   ]
  },
  {
   "cell_type": "code",
   "execution_count": 32,
   "id": "ad8eba6e",
   "metadata": {},
   "outputs": [],
   "source": [
    "features=df.drop(\"sales\", axis=1)\n",
    "target=df[\"sales\"]"
   ]
  },
  {
   "cell_type": "markdown",
   "id": "23379f18",
   "metadata": {},
   "source": [
    "# Sacling the data using Min-Max Scaler:"
   ]
  },
  {
   "cell_type": "code",
   "execution_count": 33,
   "id": "5e68251e",
   "metadata": {},
   "outputs": [],
   "source": [
    "from sklearn.preprocessing import MinMaxScaler\n",
    "mms=MinMaxScaler()\n",
    "from sklearn.linear_model import LinearRegression\n",
    "lr=LinearRegression()\n",
    "from sklearn.metrics import r2_score\n",
    "from sklearn.model_selection import train_test_split"
   ]
  },
  {
   "cell_type": "code",
   "execution_count": 35,
   "id": "469b30c0",
   "metadata": {},
   "outputs": [],
   "source": [
    "import warnings\n",
    "warnings.filterwarnings('ignore')"
   ]
  },
  {
   "cell_type": "code",
   "execution_count": 37,
   "id": "fd3e6beb",
   "metadata": {},
   "outputs": [
    {
     "name": "stdout",
     "output_type": "stream",
     "text": [
      "At random state0,the training accuracy is:-0.9073274552252846\n",
      "At random state0,the testing accuracy is:-0.8564802143279251\n",
      "\n",
      "\n",
      "At random state1,the training accuracy is:-0.8959391993971187\n",
      "At random state1,the testing accuracy is:-0.8928781912093181\n",
      "\n",
      "\n",
      "At random state2,the training accuracy is:-0.9152614531156524\n",
      "At random state2,the testing accuracy is:-0.7570326409482366\n",
      "\n",
      "\n",
      "At random state3,the training accuracy is:-0.8931443451313652\n",
      "At random state3,the testing accuracy is:-0.913444967458206\n",
      "\n",
      "\n",
      "At random state4,the training accuracy is:-0.8911682084041699\n",
      "At random state4,the testing accuracy is:-0.9084934434517353\n",
      "\n",
      "\n",
      "At random state5,the training accuracy is:-0.89570620107301\n",
      "At random state5,the testing accuracy is:-0.8985195836305799\n",
      "\n",
      "\n",
      "At random state6,the training accuracy is:-0.8915582028345674\n",
      "At random state6,the testing accuracy is:-0.9219412229135812\n",
      "\n",
      "\n",
      "At random state7,the training accuracy is:-0.8929171093102488\n",
      "At random state7,the testing accuracy is:-0.9094946118605033\n",
      "\n",
      "\n",
      "At random state8,the training accuracy is:-0.9089671598668994\n",
      "At random state8,the testing accuracy is:-0.8454524606304806\n",
      "\n",
      "\n",
      "At random state9,the training accuracy is:-0.8897879071515497\n",
      "At random state9,the testing accuracy is:-0.9254791165935141\n",
      "\n",
      "\n",
      "At random state10,the training accuracy is:-0.9210064755430887\n",
      "At random state10,the testing accuracy is:-0.8350889287403334\n",
      "\n",
      "\n",
      "At random state11,the training accuracy is:-0.9111623809104603\n",
      "At random state11,the testing accuracy is:-0.8449820092996341\n",
      "\n",
      "\n",
      "At random state12,the training accuracy is:-0.8918075499129059\n",
      "At random state12,the testing accuracy is:-0.9110007582766771\n",
      "\n",
      "\n",
      "At random state13,the training accuracy is:-0.887016186914774\n",
      "At random state13,the testing accuracy is:-0.930587014890429\n",
      "\n",
      "\n",
      "At random state14,the training accuracy is:-0.9086355983008996\n",
      "At random state14,the testing accuracy is:-0.8549475163509117\n",
      "\n",
      "\n",
      "At random state15,the training accuracy is:-0.8938079254185115\n",
      "At random state15,the testing accuracy is:-0.9055692412310968\n",
      "\n",
      "\n",
      "At random state16,the training accuracy is:-0.8926643673594483\n",
      "At random state16,the testing accuracy is:-0.9179051167419225\n",
      "\n",
      "\n",
      "At random state17,the training accuracy is:-0.9116703196823303\n",
      "At random state17,the testing accuracy is:-0.8260144163842631\n",
      "\n",
      "\n",
      "At random state18,the training accuracy is:-0.9058537276169787\n",
      "At random state18,the testing accuracy is:-0.8692586836034338\n",
      "\n",
      "\n",
      "At random state19,the training accuracy is:-0.8936964884458825\n",
      "At random state19,the testing accuracy is:-0.9035293150713194\n",
      "\n",
      "\n",
      "At random state20,the training accuracy is:-0.8940674217997686\n",
      "At random state20,the testing accuracy is:-0.9028631545455048\n",
      "\n",
      "\n",
      "At random state21,the training accuracy is:-0.8890540600770627\n",
      "At random state21,the testing accuracy is:-0.9146569039385175\n",
      "\n",
      "\n",
      "At random state22,the training accuracy is:-0.8899973381223143\n",
      "At random state22,the testing accuracy is:-0.9182082402965809\n",
      "\n",
      "\n",
      "At random state23,the training accuracy is:-0.8921767001074105\n",
      "At random state23,the testing accuracy is:-0.9099324713476882\n",
      "\n",
      "\n",
      "At random state24,the training accuracy is:-0.8948669853718487\n",
      "At random state24,the testing accuracy is:-0.9031175758867456\n",
      "\n",
      "\n",
      "At random state25,the training accuracy is:-0.901084029469538\n",
      "At random state25,the testing accuracy is:-0.8720389628792304\n",
      "\n",
      "\n",
      "At random state26,the training accuracy is:-0.9008142925470226\n",
      "At random state26,the testing accuracy is:-0.8660817826604936\n",
      "\n",
      "\n",
      "At random state27,the training accuracy is:-0.8949084508267352\n",
      "At random state27,the testing accuracy is:-0.9055839757493601\n",
      "\n",
      "\n",
      "At random state28,the training accuracy is:-0.8997566457323917\n",
      "At random state28,the testing accuracy is:-0.882889952375476\n",
      "\n",
      "\n",
      "At random state29,the training accuracy is:-0.8897990754621425\n",
      "At random state29,the testing accuracy is:-0.9121642709962422\n",
      "\n",
      "\n",
      "At random state30,the training accuracy is:-0.8935867104133169\n",
      "At random state30,the testing accuracy is:-0.9070725716744539\n",
      "\n",
      "\n",
      "At random state31,the training accuracy is:-0.8861151331622693\n",
      "At random state31,the testing accuracy is:-0.9274231828872666\n",
      "\n",
      "\n",
      "At random state32,the training accuracy is:-0.9172993061976911\n",
      "At random state32,the testing accuracy is:-0.7769624816211903\n",
      "\n",
      "\n",
      "At random state33,the training accuracy is:-0.8962944220552961\n",
      "At random state33,the testing accuracy is:-0.8938166042095905\n",
      "\n",
      "\n",
      "At random state34,the training accuracy is:-0.8970815554113069\n",
      "At random state34,the testing accuracy is:-0.8919648426080481\n",
      "\n",
      "\n",
      "At random state35,the training accuracy is:-0.9149816013369177\n",
      "At random state35,the testing accuracy is:-0.786373587730015\n",
      "\n",
      "\n",
      "At random state36,the training accuracy is:-0.8887390025066806\n",
      "At random state36,the testing accuracy is:-0.9265569630488937\n",
      "\n",
      "\n",
      "At random state37,the training accuracy is:-0.8998734924150504\n",
      "At random state37,the testing accuracy is:-0.883238146412001\n",
      "\n",
      "\n",
      "At random state38,the training accuracy is:-0.8972914103912516\n",
      "At random state38,the testing accuracy is:-0.8908696135503188\n",
      "\n",
      "\n",
      "At random state39,the training accuracy is:-0.9002556473795614\n",
      "At random state39,the testing accuracy is:-0.8690558832908659\n",
      "\n",
      "\n",
      "At random state40,the training accuracy is:-0.9204058033654225\n",
      "At random state40,the testing accuracy is:-0.7965905680536839\n",
      "\n",
      "\n",
      "At random state41,the training accuracy is:-0.9006927327079468\n",
      "At random state41,the testing accuracy is:-0.8820470614688669\n",
      "\n",
      "\n",
      "At random state42,the training accuracy is:-0.8957553000540606\n",
      "At random state42,the testing accuracy is:-0.8986489151417081\n",
      "\n",
      "\n",
      "At random state43,the training accuracy is:-0.8886405668646471\n",
      "At random state43,the testing accuracy is:-0.9279997802005557\n",
      "\n",
      "\n",
      "At random state44,the training accuracy is:-0.9065906284233083\n",
      "At random state44,the testing accuracy is:-0.8309225032852494\n",
      "\n",
      "\n",
      "At random state45,the training accuracy is:-0.8963875424029035\n",
      "At random state45,the testing accuracy is:-0.8915316806090341\n",
      "\n",
      "\n",
      "At random state46,the training accuracy is:-0.9036235036433334\n",
      "At random state46,the testing accuracy is:-0.8503383755246359\n",
      "\n",
      "\n",
      "At random state47,the training accuracy is:-0.8988386546103042\n",
      "At random state47,the testing accuracy is:-0.884983404590489\n",
      "\n",
      "\n",
      "At random state48,the training accuracy is:-0.890542166403924\n",
      "At random state48,the testing accuracy is:-0.9189262097926163\n",
      "\n",
      "\n",
      "At random state49,the training accuracy is:-0.913865852180709\n",
      "At random state49,the testing accuracy is:-0.8231216329494812\n",
      "\n",
      "\n",
      "At random state50,the training accuracy is:-0.9013718398317787\n",
      "At random state50,the testing accuracy is:-0.8476464379397722\n",
      "\n",
      "\n",
      "At random state51,the training accuracy is:-0.8936175989328148\n",
      "At random state51,the testing accuracy is:-0.9076546711720634\n",
      "\n",
      "\n",
      "At random state52,the training accuracy is:-0.9018604295382086\n",
      "At random state52,the testing accuracy is:-0.8807089729330376\n",
      "\n",
      "\n",
      "At random state53,the training accuracy is:-0.888857938922339\n",
      "At random state53,the testing accuracy is:-0.9251773581549692\n",
      "\n",
      "\n",
      "At random state54,the training accuracy is:-0.8920887237166686\n",
      "At random state54,the testing accuracy is:-0.9172149618279113\n",
      "\n",
      "\n",
      "At random state55,the training accuracy is:-0.8949301607612739\n",
      "At random state55,the testing accuracy is:-0.8978864477773828\n",
      "\n",
      "\n",
      "At random state56,the training accuracy is:-0.8989201587327643\n",
      "At random state56,the testing accuracy is:-0.8882246349534562\n",
      "\n",
      "\n",
      "At random state57,the training accuracy is:-0.8825879766148067\n",
      "At random state57,the testing accuracy is:-0.9408099432427623\n",
      "\n",
      "\n",
      "At random state58,the training accuracy is:-0.9127355018257423\n",
      "At random state58,the testing accuracy is:-0.8401442189987403\n",
      "\n",
      "\n",
      "At random state59,the training accuracy is:-0.8893758445368163\n",
      "At random state59,the testing accuracy is:-0.9250247055288897\n",
      "\n",
      "\n",
      "At random state60,the training accuracy is:-0.8929488169971975\n",
      "At random state60,the testing accuracy is:-0.9074416119003318\n",
      "\n",
      "\n",
      "At random state61,the training accuracy is:-0.8995558396715964\n",
      "At random state61,the testing accuracy is:-0.8781016428825579\n",
      "\n",
      "\n",
      "At random state62,the training accuracy is:-0.9120188082159291\n",
      "At random state62,the testing accuracy is:-0.8418326614272955\n",
      "\n",
      "\n",
      "At random state63,the training accuracy is:-0.8951057681539462\n",
      "At random state63,the testing accuracy is:-0.9005058624602784\n",
      "\n",
      "\n",
      "At random state64,the training accuracy is:-0.8977795664080803\n",
      "At random state64,the testing accuracy is:-0.881799559582723\n",
      "\n",
      "\n",
      "At random state65,the training accuracy is:-0.8969891176837769\n",
      "At random state65,the testing accuracy is:-0.8942556589953751\n",
      "\n",
      "\n",
      "At random state66,the training accuracy is:-0.8992060099166295\n",
      "At random state66,the testing accuracy is:-0.8838295132236418\n",
      "\n",
      "\n",
      "At random state67,the training accuracy is:-0.8995954079489461\n",
      "At random state67,the testing accuracy is:-0.8813062371563375\n",
      "\n",
      "\n",
      "At random state68,the training accuracy is:-0.9004472797727481\n",
      "At random state68,the testing accuracy is:-0.8669862566176891\n",
      "\n",
      "\n",
      "At random state69,the training accuracy is:-0.8870476050134384\n",
      "At random state69,the testing accuracy is:-0.9233095015758522\n",
      "\n",
      "\n",
      "At random state70,the training accuracy is:-0.8862589587247461\n",
      "At random state70,the testing accuracy is:-0.9261899619072468\n",
      "\n",
      "\n",
      "At random state71,the training accuracy is:-0.9170792242159567\n",
      "At random state71,the testing accuracy is:-0.8214330315197064\n",
      "\n",
      "\n",
      "At random state72,the training accuracy is:-0.8939630309765105\n",
      "At random state72,the testing accuracy is:-0.9063814288042916\n",
      "\n",
      "\n",
      "At random state73,the training accuracy is:-0.9081745525874727\n",
      "At random state73,the testing accuracy is:-0.8382456514164831\n",
      "\n",
      "\n",
      "At random state74,the training accuracy is:-0.8980451797105264\n",
      "At random state74,the testing accuracy is:-0.8802918295913443\n",
      "\n",
      "\n",
      "At random state75,the training accuracy is:-0.8944097316106918\n",
      "At random state75,the testing accuracy is:-0.9074740863261651\n",
      "\n",
      "\n",
      "At random state76,the training accuracy is:-0.9092071576699313\n",
      "At random state76,the testing accuracy is:-0.753128974817152\n",
      "\n",
      "\n",
      "At random state77,the training accuracy is:-0.8859821552154192\n",
      "At random state77,the testing accuracy is:-0.937956975915543\n",
      "\n",
      "\n",
      "At random state78,the training accuracy is:-0.8957614044756782\n",
      "At random state78,the testing accuracy is:-0.9027962436962178\n",
      "\n",
      "\n",
      "At random state79,the training accuracy is:-0.8918809749821501\n",
      "At random state79,the testing accuracy is:-0.9039590138288892\n",
      "\n",
      "\n",
      "At random state80,the training accuracy is:-0.9169729628077916\n",
      "At random state80,the testing accuracy is:-0.8002879936768355\n",
      "\n",
      "\n",
      "At random state81,the training accuracy is:-0.9035712487248864\n",
      "At random state81,the testing accuracy is:-0.8609698767855934\n",
      "\n",
      "\n",
      "At random state82,the training accuracy is:-0.9154275126468338\n",
      "At random state82,the testing accuracy is:-0.8013214526563002\n",
      "\n",
      "\n",
      "At random state83,the training accuracy is:-0.8842230653829803\n",
      "At random state83,the testing accuracy is:-0.9365331832976409\n",
      "\n",
      "\n",
      "At random state84,the training accuracy is:-0.8954723130793452\n",
      "At random state84,the testing accuracy is:-0.898262554750183\n",
      "\n",
      "\n",
      "At random state85,the training accuracy is:-0.9086556153894079\n",
      "At random state85,the testing accuracy is:-0.8439750044569614\n",
      "\n",
      "\n",
      "At random state86,the training accuracy is:-0.8941933141983467\n",
      "At random state86,the testing accuracy is:-0.9101136416354886\n",
      "\n",
      "\n",
      "At random state87,the training accuracy is:-0.9120854281966964\n",
      "At random state87,the testing accuracy is:-0.7590318344044371\n",
      "\n",
      "\n",
      "At random state88,the training accuracy is:-0.909607024863585\n",
      "At random state88,the testing accuracy is:-0.8387190488012204\n",
      "\n",
      "\n",
      "At random state89,the training accuracy is:-0.9007733237783739\n",
      "At random state89,the testing accuracy is:-0.8715218402293794\n",
      "\n",
      "\n",
      "At random state90,the training accuracy is:-0.9035155910972225\n",
      "At random state90,the testing accuracy is:-0.8470679956762828\n",
      "\n",
      "\n",
      "At random state91,the training accuracy is:-0.8874503790642361\n",
      "At random state91,the testing accuracy is:-0.9040620243534963\n",
      "\n",
      "\n",
      "At random state92,the training accuracy is:-0.879228484038034\n",
      "At random state92,the testing accuracy is:-0.950983339269277\n",
      "\n",
      "\n",
      "At random state93,the training accuracy is:-0.8934257355566151\n",
      "At random state93,the testing accuracy is:-0.9092789029786973\n",
      "\n",
      "\n",
      "At random state94,the training accuracy is:-0.9084405371218475\n",
      "At random state94,the testing accuracy is:-0.8559756457570239\n",
      "\n",
      "\n",
      "At random state95,the training accuracy is:-0.8935661522674359\n",
      "At random state95,the testing accuracy is:-0.8951483094107862\n",
      "\n",
      "\n",
      "At random state96,the training accuracy is:-0.9038616523881903\n",
      "At random state96,the testing accuracy is:-0.858009872088536\n",
      "\n",
      "\n",
      "At random state97,the training accuracy is:-0.8906962083562392\n",
      "At random state97,the testing accuracy is:-0.9077630204640281\n",
      "\n",
      "\n",
      "At random state98,the training accuracy is:-0.8820113423343214\n",
      "At random state98,the testing accuracy is:-0.9393724951506758\n",
      "\n",
      "\n",
      "At random state99,the training accuracy is:-0.8906644266587816\n",
      "At random state99,the testing accuracy is:-0.9201416862699034\n",
      "\n",
      "\n"
     ]
    }
   ],
   "source": [
    "for i in range(0,100):\n",
    "    features_train,features_test,target_train,target_test=train_test_split(features,target,test_size=0.2,random_state=i)\n",
    "    lr.fit(features_train,target_train)\n",
    "    pred_train=lr.predict(features_train)\n",
    "    pred_test=lr.predict(features_test)\n",
    "    print(f\"At random state{i},the training accuracy is:-{r2_score(target_train,pred_train)}\")\n",
    "    print(f\"At random state{i},the testing accuracy is:-{r2_score(target_test,pred_test)}\")\n",
    "    print(\"\\n\")\n"
   ]
  },
  {
   "cell_type": "code",
   "execution_count": 38,
   "id": "15dfcc89",
   "metadata": {},
   "outputs": [],
   "source": [
    "features_train,features_test,target_train,target_test=train_test_split(features,target,test_size=0.2,random_state=12)"
   ]
  },
  {
   "cell_type": "code",
   "execution_count": 39,
   "id": "8742e61b",
   "metadata": {},
   "outputs": [
    {
     "data": {
      "text/plain": [
       "LinearRegression()"
      ]
     },
     "execution_count": 39,
     "metadata": {},
     "output_type": "execute_result"
    }
   ],
   "source": [
    "#train the model\n",
    "lr.fit(features_train,target_train)"
   ]
  },
  {
   "cell_type": "code",
   "execution_count": 40,
   "id": "ab04e1d6",
   "metadata": {},
   "outputs": [],
   "source": [
    "pred_test=lr.predict(features_test)"
   ]
  },
  {
   "cell_type": "code",
   "execution_count": 41,
   "id": "b3bf06f5",
   "metadata": {},
   "outputs": [
    {
     "name": "stdout",
     "output_type": "stream",
     "text": [
      "0.9110007582766771\n"
     ]
    }
   ],
   "source": [
    "print(r2_score(target_test,pred_test))"
   ]
  },
  {
   "cell_type": "code",
   "execution_count": 45,
   "id": "1e484a3b",
   "metadata": {},
   "outputs": [
    {
     "name": "stdout",
     "output_type": "stream",
     "text": [
      "At cross fold2 the cv score is0.8557808905096393and accuracy score for training is-1.1005688286388957 and accuracy for the testing is0.9110007582766771\n",
      "\n",
      "\n",
      "At cross fold3 the cv score is0.8913539823868294and accuracy score for training is-1.1005688286388957 and accuracy for the testing is0.9110007582766771\n",
      "\n",
      "\n",
      "At cross fold4 the cv score is0.8858779626590164and accuracy score for training is-1.1005688286388957 and accuracy for the testing is0.9110007582766771\n",
      "\n",
      "\n",
      "At cross fold5 the cv score is0.8842777844741692and accuracy score for training is-1.1005688286388957 and accuracy for the testing is0.9110007582766771\n",
      "\n",
      "\n",
      "At cross fold6 the cv score is0.8877823078964706and accuracy score for training is-1.1005688286388957 and accuracy for the testing is0.9110007582766771\n",
      "\n",
      "\n",
      "At cross fold7 the cv score is0.8830284351379021and accuracy score for training is-1.1005688286388957 and accuracy for the testing is0.9110007582766771\n",
      "\n",
      "\n",
      "At cross fold8 the cv score is0.879505934736525and accuracy score for training is-1.1005688286388957 and accuracy for the testing is0.9110007582766771\n",
      "\n",
      "\n",
      "At cross fold9 the cv score is0.879704245100306and accuracy score for training is-1.1005688286388957 and accuracy for the testing is0.9110007582766771\n",
      "\n",
      "\n"
     ]
    }
   ],
   "source": [
    "Train_accuracy=r2_score(target_train,pred_train)\n",
    "Test_accuracy=r2_score(target_test,pred_test)\n",
    "\n",
    "from sklearn.model_selection import cross_val_score\n",
    "for j in range(2,10):\n",
    "    cv_score=cross_val_score(lr,features,target,cv=j)\n",
    "    cv_mean=cv_score.mean()\n",
    "    print(f\"At cross fold{j} the cv score is{cv_mean}and accuracy score for training is{Train_accuracy} and accuracy for the testing is{Test_accuracy}\")\n",
    "    print(\"\\n\")"
   ]
  },
  {
   "cell_type": "code",
   "execution_count": 47,
   "id": "6a342f56",
   "metadata": {},
   "outputs": [
    {
     "data": {
      "image/png": "[encoded data removed]",
      "text/plain": [
       "<Figure size 576x432 with 1 Axes>"
      ]
     },
     "metadata": {
      "needs_background": "light"
     },
     "output_type": "display_data"
    }
   ],
   "source": [
    "import matplotlib.pyplot as plt\n",
    "plt.figure(figsize=(8,6))\n",
    "plt.scatter(x=target_test,y=pred_test,color='r')\n",
    "plt.plot(target_test,target_test,color='b')\n",
    "plt.xlabel('Actual sales',fontsize=14)\n",
    "plt.ylabel('Predicted sales',fontsize=14)\n",
    "plt.title('Linear Regression',fontsize=18)\n",
    "plt.show()"
   ]
  },
  {
   "cell_type": "markdown",
   "id": "41483bf8",
   "metadata": {},
   "source": [
    "# Regularization:"
   ]
  },
  {
   "cell_type": "code",
   "execution_count": 50,
   "id": "5008c8ef",
   "metadata": {},
   "outputs": [],
   "source": [
    "from sklearn.model_selection import GridSearchCV\n",
    "from sklearn.model_selection import cross_val_score\n",
    "import warnings\n",
    "warnings.filterwarnings('ignore')"
   ]
  },
  {
   "cell_type": "code",
   "execution_count": 53,
   "id": "65c2fbf5",
   "metadata": {},
   "outputs": [
    {
     "name": "stdout",
     "output_type": "stream",
     "text": [
      "{'alpha': 0.01, 'random_state': 0}\n"
     ]
    }
   ],
   "source": [
    "from sklearn.linear_model import Lasso\n",
    "\n",
    "parameters={'alpha':[.0001,.001,.01,1,10],'random_state':list(range(0,10))}\n",
    "ls=Lasso()\n",
    "clf=GridSearchCV(ls,parameters)\n",
    "clf.fit(features_train,target_train)\n",
    "\n",
    "print(clf.best_params_)"
   ]
  },
  {
   "cell_type": "code",
   "execution_count": 57,
   "id": "6d3684e0",
   "metadata": {},
   "outputs": [
    {
     "data": {
      "text/plain": [
       "89.13861980626946"
      ]
     },
     "execution_count": 57,
     "metadata": {},
     "output_type": "execute_result"
    }
   ],
   "source": [
    "#final model training\n",
    "ls=Lasso(alpha=1,random_state=0)\n",
    "ls.fit(features_train,target_train)\n",
    "ls_score_training=ls.score(features_train,target_train)\n",
    "pred_ls=ls.predict(features_test)\n",
    "ls_score_training*100"
   ]
  },
  {
   "cell_type": "code",
   "execution_count": 58,
   "id": "c5a0b0af",
   "metadata": {},
   "outputs": [
    {
     "data": {
      "text/plain": [
       "91.31785872237904"
      ]
     },
     "execution_count": 58,
     "metadata": {},
     "output_type": "execute_result"
    }
   ],
   "source": [
    "lss=r2_score(target_test,pred_ls)\n",
    "lss*100"
   ]
  },
  {
   "cell_type": "code",
   "execution_count": 59,
   "id": "ff8b808d",
   "metadata": {},
   "outputs": [
    {
     "data": {
      "text/plain": [
       "88.5886332944758"
      ]
     },
     "execution_count": 59,
     "metadata": {},
     "output_type": "execute_result"
    }
   ],
   "source": [
    "cv_score=cross_val_score(ls,features,target,cv=5)\n",
    "cv_mean=cv_score.mean()\n",
    "cv_mean*100"
   ]
  },
  {
   "cell_type": "markdown",
   "id": "04c3ed6f",
   "metadata": {},
   "source": [
    "# Ensemble technique:"
   ]
  },
  {
   "cell_type": "code",
   "execution_count": 60,
   "id": "30ecf3e6",
   "metadata": {},
   "outputs": [
    {
     "name": "stdout",
     "output_type": "stream",
     "text": [
      "{'criterion': 'mse', 'max_features': 'auto'}\n"
     ]
    }
   ],
   "source": [
    "from sklearn.model_selection import GridSearchCV\n",
    "from sklearn.ensemble import RandomForestRegressor\n",
    "\n",
    "parameters={'criterion':['mse','mae'],'max_features':[\"auto\",\"sqrt\",\"log2\"]}\n",
    "\n",
    "rf=RandomForestRegressor()\n",
    "clf=GridSearchCV(rf,parameters)\n",
    "clf.fit(features_train,target_train)\n",
    "\n",
    "print(clf.best_params_)"
   ]
  },
  {
   "cell_type": "code",
   "execution_count": 64,
   "id": "c7c64ae3",
   "metadata": {},
   "outputs": [
    {
     "name": "stdout",
     "output_type": "stream",
     "text": [
      "R2 Score: 98.41381344552964\n",
      "Cross Val Score: 97.27591783365386\n"
     ]
    }
   ],
   "source": [
    "rf=RandomForestRegressor(criterion=\"mae\",max_features=\"auto\")\n",
    "rf.fit(features_train,target_train)\n",
    "rf.score(features_train,target_train)\n",
    "pred_decision=rf.predict(features_test)\n",
    "\n",
    "rfs=r2_score(target_test,pred_decision)\n",
    "print('R2 Score:',rfs*100)\n",
    "\n",
    "rfscore=cross_val_score(rf,features,target,cv=5)\n",
    "rfc=rfscore.mean()\n",
    "print('Cross Val Score:',rfc*100)"
   ]
  },
  {
   "cell_type": "code",
   "execution_count": 65,
   "id": "252a30f6",
   "metadata": {},
   "outputs": [],
   "source": [
    "import pickle\n",
    "filename='sales.pkl'\n",
    "pickle.dump(rf,open(filename,'wb'))"
   ]
  },
  {
   "cell_type": "markdown",
   "id": "984fe553",
   "metadata": {},
   "source": [
    "# Conclusion"
   ]
  },
  {
   "cell_type": "code",
   "execution_count": 66,
   "id": "c6e0d6a2",
   "metadata": {},
   "outputs": [
    {
     "name": "stdout",
     "output_type": "stream",
     "text": [
      "98.41381344552964\n"
     ]
    }
   ],
   "source": [
    "loaded_model=pickle.load(open('sales.pkl','rb'))\n",
    "result=loaded_model.score(features_test,target_test)\n",
    "print(result*100)"
   ]
  },
  {
   "cell_type": "code",
   "execution_count": 67,
   "id": "b8ddd870",
   "metadata": {},
   "outputs": [
    {
     "data": {
      "text/html": [
       "<div>\n",
       "<style scoped>\n",
       "    .dataframe tbody tr th:only-of-type {\n",
       "        vertical-align: middle;\n",
       "    }\n",
       "\n",
       "    .dataframe tbody tr th {\n",
       "        vertical-align: top;\n",
       "    }\n",
       "\n",
       "    .dataframe thead th {\n",
       "        text-align: right;\n",
       "    }\n",
       "</style>\n",
       "<table border=\"1\" class=\"dataframe\">\n",
       "  <thead>\n",
       "    <tr style=\"text-align: right;\">\n",
       "      <th></th>\n",
       "      <th>0</th>\n",
       "      <th>1</th>\n",
       "      <th>2</th>\n",
       "      <th>3</th>\n",
       "      <th>4</th>\n",
       "      <th>5</th>\n",
       "      <th>6</th>\n",
       "      <th>7</th>\n",
       "      <th>8</th>\n",
       "      <th>9</th>\n",
       "      <th>...</th>\n",
       "      <th>30</th>\n",
       "      <th>31</th>\n",
       "      <th>32</th>\n",
       "      <th>33</th>\n",
       "      <th>34</th>\n",
       "      <th>35</th>\n",
       "      <th>36</th>\n",
       "      <th>37</th>\n",
       "      <th>38</th>\n",
       "      <th>39</th>\n",
       "    </tr>\n",
       "  </thead>\n",
       "  <tbody>\n",
       "    <tr>\n",
       "      <th>Predicted</th>\n",
       "      <td>15.373</td>\n",
       "      <td>9.022</td>\n",
       "      <td>6.902</td>\n",
       "      <td>12.157</td>\n",
       "      <td>12.762</td>\n",
       "      <td>17.078</td>\n",
       "      <td>24.607</td>\n",
       "      <td>9.562</td>\n",
       "      <td>12.4</td>\n",
       "      <td>12.917</td>\n",
       "      <td>...</td>\n",
       "      <td>11.164</td>\n",
       "      <td>25.318</td>\n",
       "      <td>16.536</td>\n",
       "      <td>21.3405</td>\n",
       "      <td>6.594</td>\n",
       "      <td>21.167</td>\n",
       "      <td>13.61</td>\n",
       "      <td>22.751</td>\n",
       "      <td>11.24</td>\n",
       "      <td>7.15</td>\n",
       "    </tr>\n",
       "    <tr>\n",
       "      <th>Original</th>\n",
       "      <td>15.373</td>\n",
       "      <td>9.022</td>\n",
       "      <td>6.902</td>\n",
       "      <td>12.157</td>\n",
       "      <td>12.762</td>\n",
       "      <td>17.078</td>\n",
       "      <td>24.607</td>\n",
       "      <td>9.562</td>\n",
       "      <td>12.4</td>\n",
       "      <td>12.917</td>\n",
       "      <td>...</td>\n",
       "      <td>11.164</td>\n",
       "      <td>25.318</td>\n",
       "      <td>16.536</td>\n",
       "      <td>21.3405</td>\n",
       "      <td>6.594</td>\n",
       "      <td>21.167</td>\n",
       "      <td>13.61</td>\n",
       "      <td>22.751</td>\n",
       "      <td>11.24</td>\n",
       "      <td>7.15</td>\n",
       "    </tr>\n",
       "  </tbody>\n",
       "</table>\n",
       "<p>2 rows × 40 columns</p>\n",
       "</div>"
      ],
      "text/plain": [
       "               0      1      2       3       4       5       6      7     8   \\\n",
       "Predicted  15.373  9.022  6.902  12.157  12.762  17.078  24.607  9.562  12.4   \n",
       "Original   15.373  9.022  6.902  12.157  12.762  17.078  24.607  9.562  12.4   \n",
       "\n",
       "               9   ...      30      31      32       33     34      35     36  \\\n",
       "Predicted  12.917  ...  11.164  25.318  16.536  21.3405  6.594  21.167  13.61   \n",
       "Original   12.917  ...  11.164  25.318  16.536  21.3405  6.594  21.167  13.61   \n",
       "\n",
       "               37     38    39  \n",
       "Predicted  22.751  11.24  7.15  \n",
       "Original   22.751  11.24  7.15  \n",
       "\n",
       "[2 rows x 40 columns]"
      ]
     },
     "execution_count": 67,
     "metadata": {},
     "output_type": "execute_result"
    }
   ],
   "source": [
    "conclusion=pd.DataFrame([loaded_model.predict(features_test)[:],pred_decision[:]],index=[\"Predicted\",\"Original\"])\n",
    "conclusion"
   ]
  }
 ],
 "metadata": {
  "kernelspec": {
   "display_name": "Python 3",
   "language": "python",
   "name": "python3"
  },
  "language_info": {
   "codemirror_mode": {
    "name": "ipython",
    "version": 3
   },
   "file_extension": ".py",
   "mimetype": "text/x-python",
   "name": "python",
   "nbconvert_exporter": "python",
   "pygments_lexer": "ipython3",
   "version": "3.8.8"
  }
 },
 "nbformat": 4,
 "nbformat_minor": 5
}
